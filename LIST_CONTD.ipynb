{
 "cells": [
  {
   "cell_type": "markdown",
   "id": "6a71528c",
   "metadata": {},
   "source": [
    "# Length Of A List"
   ]
  },
  {
   "cell_type": "code",
   "execution_count": 1,
   "id": "bbf27dd9",
   "metadata": {},
   "outputs": [],
   "source": [
    "#To get the length of a list,we use the 'len' function.\n",
    "snacks = list(('biscuit','sweet','chinchin','drinks'))"
   ]
  },
  {
   "cell_type": "code",
   "execution_count": 3,
   "id": "7cad00f1",
   "metadata": {},
   "outputs": [
    {
     "name": "stdout",
     "output_type": "stream",
     "text": [
      "<class 'list'>\n",
      "4\n"
     ]
    }
   ],
   "source": [
    "print(type(snacks))\n",
    "print(len(snacks))   #note that,the 'len' function does not involve index."
   ]
  },
  {
   "cell_type": "code",
   "execution_count": 4,
   "id": "d9d4aa0f",
   "metadata": {},
   "outputs": [
    {
     "name": "stdout",
     "output_type": "stream",
     "text": [
      "6\n"
     ]
    }
   ],
   "source": [
    "Drinks = ['fanta', 'pepsi', 'coke', 'fearless', 'lacasera','malt']\n",
    "print(len(Drinks))"
   ]
  },
  {
   "cell_type": "markdown",
   "id": "f5002560",
   "metadata": {},
   "source": [
    "# How To Extend Lists"
   ]
  },
  {
   "cell_type": "code",
   "execution_count": 17,
   "id": "d1667e0c",
   "metadata": {},
   "outputs": [],
   "source": [
    "# We use the 'extend method' to append elements from another list.\n",
    "Location = ['Kaduna', 'Lagos', 'Delta', 'Kano', 'Ikeja', 'Ibadan', 'Edo']\n",
    "Size = [2.3, 3.55, 7.2, 9.40, 1.59, 5.15, 6.5]"
   ]
  },
  {
   "cell_type": "code",
   "execution_count": 18,
   "id": "630ee8bd",
   "metadata": {},
   "outputs": [],
   "source": [
    "Location.extend(Size)      #this function combines both lists."
   ]
  },
  {
   "cell_type": "code",
   "execution_count": 20,
   "id": "7d32509d",
   "metadata": {},
   "outputs": [
    {
     "name": "stdout",
     "output_type": "stream",
     "text": [
      "['Kaduna', 'Lagos', 'Delta', 'Kano', 'Ikeja', 'Ibadan', 'Edo', 2.3, 3.55, 7.2, 9.4, 1.59, 5.15, 6.5]\n"
     ]
    }
   ],
   "source": [
    "print(Location)   "
   ]
  },
  {
   "cell_type": "code",
   "execution_count": 21,
   "id": "174e7794",
   "metadata": {},
   "outputs": [],
   "source": [
    "Size.extend(Location)"
   ]
  },
  {
   "cell_type": "code",
   "execution_count": 22,
   "id": "bb380997",
   "metadata": {},
   "outputs": [
    {
     "name": "stdout",
     "output_type": "stream",
     "text": [
      "[2.3, 3.55, 7.2, 9.4, 1.59, 5.15, 6.5, 'Kaduna', 'Lagos', 'Delta', 'Kano', 'Ikeja', 'Ibadan', 'Edo', 2.3, 3.55, 7.2, 9.4, 1.59, 5.15, 6.5]\n"
     ]
    }
   ],
   "source": [
    "print(Size)      #it returns a complicated output just to confuse us."
   ]
  },
  {
   "cell_type": "markdown",
   "id": "7e17a512",
   "metadata": {},
   "source": [
    "# ITERATION"
   ]
  },
  {
   "cell_type": "code",
   "execution_count": null,
   "id": "17fb4257",
   "metadata": {},
   "outputs": [],
   "source": [
    "# This simply means the repitition of a process."
   ]
  },
  {
   "cell_type": "code",
   "execution_count": 27,
   "id": "968af7fa",
   "metadata": {},
   "outputs": [],
   "source": [
    "People = ['Westley', 'Denzel', 'Quinn', 'Ella']\n",
    "Gender = ['male', 'male', 'female', 'female']\n",
    "People.extend(Gender)"
   ]
  },
  {
   "cell_type": "code",
   "execution_count": 28,
   "id": "77c46ee0",
   "metadata": {},
   "outputs": [
    {
     "name": "stdout",
     "output_type": "stream",
     "text": [
      "['Westley', 'Denzel', 'Quinn', 'Ella', 'male', 'male', 'female', 'female']\n"
     ]
    }
   ],
   "source": [
    "print(People)"
   ]
  },
  {
   "cell_type": "markdown",
   "id": "a2c0befd",
   "metadata": {},
   "source": [
    "# Removing List Items"
   ]
  },
  {
   "cell_type": "code",
   "execution_count": 34,
   "id": "7b48ace7",
   "metadata": {},
   "outputs": [],
   "source": [
    "#We use the 'remove' method to delete/remove items from a list.\n",
    "people = ['Westley', 'Denzel', 'Quinn', 'Ella']"
   ]
  },
  {
   "cell_type": "code",
   "execution_count": 35,
   "id": "b2f406e7",
   "metadata": {},
   "outputs": [
    {
     "name": "stdout",
     "output_type": "stream",
     "text": [
      "['Denzel', 'Quinn', 'Ella']\n"
     ]
    }
   ],
   "source": [
    "people.remove('Westley')\n",
    "print(people)             #the use of index is not necessary here."
   ]
  },
  {
   "cell_type": "code",
   "execution_count": 36,
   "id": "032c9bea",
   "metadata": {},
   "outputs": [
    {
     "name": "stdout",
     "output_type": "stream",
     "text": [
      "['Denzel', 'Quinn']\n"
     ]
    }
   ],
   "source": [
    "people.remove('Ella')\n",
    "print(people)    "
   ]
  },
  {
   "cell_type": "code",
   "execution_count": 38,
   "id": "9491a26f",
   "metadata": {},
   "outputs": [],
   "source": [
    "#Using 'pop' method; index is necessary in this case.\n",
    "elements = ['carbon', 'helium', 'boron', 'neon']"
   ]
  },
  {
   "cell_type": "code",
   "execution_count": 39,
   "id": "ef0d0271",
   "metadata": {},
   "outputs": [
    {
     "data": {
      "text/plain": [
       "'neon'"
      ]
     },
     "execution_count": 39,
     "metadata": {},
     "output_type": "execute_result"
    }
   ],
   "source": [
    "elements.pop(3)"
   ]
  },
  {
   "cell_type": "code",
   "execution_count": 40,
   "id": "61be1e5c",
   "metadata": {},
   "outputs": [
    {
     "data": {
      "text/plain": [
       "'boron'"
      ]
     },
     "execution_count": 40,
     "metadata": {},
     "output_type": "execute_result"
    }
   ],
   "source": [
    "elements.pop()    #No index means removing from the rear end."
   ]
  },
  {
   "cell_type": "code",
   "execution_count": 41,
   "id": "0e258f73",
   "metadata": {},
   "outputs": [],
   "source": [
    "#to delete a variable,we use the function(del)\n",
    "del elements"
   ]
  },
  {
   "cell_type": "code",
   "execution_count": 43,
   "id": "9798e312",
   "metadata": {},
   "outputs": [
    {
     "ename": "NameError",
     "evalue": "name 'elements' is not defined",
     "output_type": "error",
     "traceback": [
      "\u001b[1;31m---------------------------------------------------------------------------\u001b[0m",
      "\u001b[1;31mNameError\u001b[0m                                 Traceback (most recent call last)",
      "Cell \u001b[1;32mIn[43], line 1\u001b[0m\n\u001b[1;32m----> 1\u001b[0m elements\n",
      "\u001b[1;31mNameError\u001b[0m: name 'elements' is not defined"
     ]
    }
   ],
   "source": [
    "elements         #variable elemets has been deleted."
   ]
  },
  {
   "cell_type": "markdown",
   "id": "c8e6ba32",
   "metadata": {},
   "source": [
    "# How To Clear Lists"
   ]
  },
  {
   "cell_type": "code",
   "execution_count": 14,
   "id": "af9c41e3",
   "metadata": {},
   "outputs": [],
   "source": [
    "#'clear method' is used to clear/empty lists.\n",
    "phone_brands = ['samsung', 'iphone', 'oppo', 'redmi']\n",
    "phone_brands.clear()"
   ]
  },
  {
   "cell_type": "code",
   "execution_count": 15,
   "id": "71215197",
   "metadata": {},
   "outputs": [
    {
     "name": "stdout",
     "output_type": "stream",
     "text": [
      "[]\n"
     ]
    }
   ],
   "source": [
    "print(phone_brands)"
   ]
  },
  {
   "cell_type": "markdown",
   "id": "92cf8087",
   "metadata": {},
   "source": [
    "# Looping Through Lists"
   ]
  },
  {
   "cell_type": "code",
   "execution_count": 12,
   "id": "32881096",
   "metadata": {},
   "outputs": [],
   "source": [
    "Family_members = ['Zaheed','Rihanna','Lia','Success','Gideon','Johanna','Amazing','Helen']"
   ]
  },
  {
   "cell_type": "code",
   "execution_count": 13,
   "id": "3a8bbbcb",
   "metadata": {},
   "outputs": [
    {
     "name": "stdout",
     "output_type": "stream",
     "text": [
      "Zaheed\n",
      "Rihanna\n",
      "Lia\n",
      "Success\n",
      "Gideon\n",
      "Johanna\n",
      "Amazing\n",
      "Helen\n"
     ]
    }
   ],
   "source": [
    "for C in Family_members:\n",
    "    print(C)"
   ]
  },
  {
   "cell_type": "markdown",
   "id": "10793667",
   "metadata": {},
   "source": [
    "# Looping Through Index "
   ]
  },
  {
   "cell_type": "code",
   "execution_count": 8,
   "id": "10100c86",
   "metadata": {},
   "outputs": [],
   "source": [
    "Family_members = ['Zaheed','Rihanna','Lia','Success','Gideon','Johanna','Amazing','Helen']"
   ]
  },
  {
   "cell_type": "code",
   "execution_count": 10,
   "id": "2f8bd0c1",
   "metadata": {},
   "outputs": [
    {
     "name": "stdout",
     "output_type": "stream",
     "text": [
      "Zaheed\n",
      "Rihanna\n",
      "Lia\n",
      "Success\n",
      "Gideon\n",
      "Johanna\n",
      "Amazing\n",
      "Helen\n"
     ]
    }
   ],
   "source": [
    "for I in range(len(Family_members)):\n",
    "    print(Family_members[I])              #the range is practically using index"
   ]
  },
  {
   "cell_type": "code",
   "execution_count": 11,
   "id": "df4fd50f",
   "metadata": {},
   "outputs": [
    {
     "name": "stdout",
     "output_type": "stream",
     "text": [
      "8\n"
     ]
    }
   ],
   "source": [
    "print(len(Family_members))"
   ]
  },
  {
   "cell_type": "markdown",
   "id": "e8c632d4",
   "metadata": {},
   "source": [
    "# Looping Through List Using 'While Loop'"
   ]
  },
  {
   "cell_type": "code",
   "execution_count": 49,
   "id": "38ccc752",
   "metadata": {},
   "outputs": [
    {
     "name": "stdout",
     "output_type": "stream",
     "text": [
      "wednesday\n",
      "monday\n",
      "friday\n",
      "saturday\n"
     ]
    }
   ],
   "source": [
    "days = ['wednesday','monday','friday','saturday']\n",
    "C = 0\n",
    "while C < len(days):\n",
    "    print(days[C])\n",
    "    C = C + 1"
   ]
  },
  {
   "cell_type": "markdown",
   "id": "faccdfeb",
   "metadata": {},
   "source": [
    "# List Comprehension"
   ]
  },
  {
   "cell_type": "code",
   "execution_count": 3,
   "id": "269b2894",
   "metadata": {},
   "outputs": [],
   "source": [
    "fruits = ['avocado','berry', 'guava', 'cherry']"
   ]
  },
  {
   "cell_type": "code",
   "execution_count": 4,
   "id": "e52512bb",
   "metadata": {},
   "outputs": [
    {
     "name": "stdout",
     "output_type": "stream",
     "text": [
      "avocado\n",
      "berry\n",
      "guava\n",
      "cherry\n"
     ]
    },
    {
     "data": {
      "text/plain": [
       "[None, None, None, None]"
      ]
     },
     "execution_count": 4,
     "metadata": {},
     "output_type": "execute_result"
    }
   ],
   "source": [
    "[print(c) for c in fruits]"
   ]
  },
  {
   "cell_type": "code",
   "execution_count": 5,
   "id": "d4193953",
   "metadata": {},
   "outputs": [
    {
     "data": {
      "text/plain": [
       "['avocado', 'berry', 'guava', 'cherry']"
      ]
     },
     "execution_count": 5,
     "metadata": {},
     "output_type": "execute_result"
    }
   ],
   "source": [
    "fruits"
   ]
  },
  {
   "cell_type": "markdown",
   "id": "49b416c6",
   "metadata": {},
   "source": [
    "# How To Interchange First&Last Elements In A List"
   ]
  },
  {
   "cell_type": "code",
   "execution_count": 28,
   "id": "c0239f16",
   "metadata": {},
   "outputs": [],
   "source": [
    "artist = ['Drake', 'Malone', 'Centralcee', 'Tatiana', 'Juicewrld']"
   ]
  },
  {
   "cell_type": "code",
   "execution_count": 29,
   "id": "848a3ec9",
   "metadata": {},
   "outputs": [
    {
     "name": "stdout",
     "output_type": "stream",
     "text": [
      "['Juicewrld', 'Malone', 'Centralcee', 'Tatiana', 'Juicewrld']\n"
     ]
    }
   ],
   "source": [
    "X = artist[0]\n",
    "artist[0] = artist[len(artist)-1]\n",
    "print(artist)                          #we have been able to move 'Juicewrld',whick is index(4/-1) to index(0/-5)."
   ]
  },
  {
   "cell_type": "code",
   "execution_count": 30,
   "id": "8003a7b2",
   "metadata": {},
   "outputs": [
    {
     "name": "stdout",
     "output_type": "stream",
     "text": [
      "['Juicewrld', 'Malone', 'Centralcee', 'Tatiana', 'Drake']\n"
     ]
    }
   ],
   "source": [
    "artist[len(artist)-1] = X\n",
    "print(artist)                #now we have successfully swaped the first and last elements."
   ]
  },
  {
   "cell_type": "code",
   "execution_count": 31,
   "id": "fa7df029",
   "metadata": {},
   "outputs": [],
   "source": [
    "#An easy formula is A = B, B = C, C = A."
   ]
  }
 ],
 "metadata": {
  "kernelspec": {
   "display_name": "Python 3 (ipykernel)",
   "language": "python",
   "name": "python3"
  },
  "language_info": {
   "codemirror_mode": {
    "name": "ipython",
    "version": 3
   },
   "file_extension": ".py",
   "mimetype": "text/x-python",
   "name": "python",
   "nbconvert_exporter": "python",
   "pygments_lexer": "ipython3",
   "version": "3.11.7"
  }
 },
 "nbformat": 4,
 "nbformat_minor": 5
}
