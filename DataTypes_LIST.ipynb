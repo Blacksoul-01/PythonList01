{
 "cells": [
  {
   "cell_type": "markdown",
   "id": "1f84d9c8",
   "metadata": {},
   "source": [
    "# List"
   ]
  },
  {
   "cell_type": "code",
   "execution_count": null,
   "id": "29bf9843",
   "metadata": {},
   "outputs": [],
   "source": [
    " \"\"\"A list is a set of data enclosed within a square bracket '[]' and assigned to a particular variable name.\"\"\"\n",
    "\"A list is a set of data enclosed within a square bracket '[]' and assigned to a particular variable name.\""
   ]
  },
  {
   "cell_type": "code",
   "execution_count": 4,
   "id": "a57d0608",
   "metadata": {},
   "outputs": [],
   "source": [
    "#Example:\n",
    "Brands = ['Gucci', 'Prada', 'Puma', 'Nike'] #If we print the class which this belongs to, it will return 'list'"
   ]
  },
  {
   "cell_type": "code",
   "execution_count": 5,
   "id": "17254226",
   "metadata": {},
   "outputs": [
    {
     "name": "stdout",
     "output_type": "stream",
     "text": [
      "<class 'list'>\n"
     ]
    }
   ],
   "source": [
    "print(type(Brands))"
   ]
  },
  {
   "cell_type": "code",
   "execution_count": 6,
   "id": "7f759457",
   "metadata": {},
   "outputs": [],
   "source": [
    "#List can store various data types like; 'str', 'int', 'float' and 'bool'. Example;\n",
    "Age = [12, 45, 71, 4]\n",
    "Days = ['friday', 'sunday', 'monday', 'thursday']\n",
    "answer = [True, True, False, True]\n",
    "time = [2.30, 9.00, 6.25, 1.09]   #all these will return as class list."
   ]
  },
  {
   "cell_type": "code",
   "execution_count": 7,
   "id": "8d731941",
   "metadata": {},
   "outputs": [
    {
     "data": {
      "text/plain": [
       "list"
      ]
     },
     "execution_count": 7,
     "metadata": {},
     "output_type": "execute_result"
    }
   ],
   "source": [
    "type(Age)"
   ]
  },
  {
   "cell_type": "code",
   "execution_count": 8,
   "id": "547f8fcd",
   "metadata": {},
   "outputs": [
    {
     "data": {
      "text/plain": [
       "list"
      ]
     },
     "execution_count": 8,
     "metadata": {},
     "output_type": "execute_result"
    }
   ],
   "source": [
    "type(Days)"
   ]
  },
  {
   "cell_type": "code",
   "execution_count": 9,
   "id": "403e69e2",
   "metadata": {},
   "outputs": [
    {
     "data": {
      "text/plain": [
       "list"
      ]
     },
     "execution_count": 9,
     "metadata": {},
     "output_type": "execute_result"
    }
   ],
   "source": [
    "type(answer)"
   ]
  },
  {
   "cell_type": "code",
   "execution_count": 10,
   "id": "5fa6cee6",
   "metadata": {},
   "outputs": [
    {
     "data": {
      "text/plain": [
       "list"
      ]
     },
     "execution_count": 10,
     "metadata": {},
     "output_type": "execute_result"
    }
   ],
   "source": [
    "type(time)"
   ]
  },
  {
   "cell_type": "code",
   "execution_count": 11,
   "id": "3af835b1",
   "metadata": {},
   "outputs": [
    {
     "name": "stdout",
     "output_type": "stream",
     "text": [
      "[12, 45, 71, 4] ['friday', 'sunday', 'monday', 'thursday'] [True, True, False, True] [2.3, 9.0, 6.25, 1.09]\n"
     ]
    }
   ],
   "source": [
    "print(Age,Days,answer,time)"
   ]
  },
  {
   "cell_type": "code",
   "execution_count": 22,
   "id": "0ed3640e",
   "metadata": {},
   "outputs": [],
   "source": [
    "info = ['Fiona', 17, 4.8, True]    #mixed data types will still return as list."
   ]
  },
  {
   "cell_type": "code",
   "execution_count": 23,
   "id": "a40c2d85",
   "metadata": {},
   "outputs": [
    {
     "name": "stdout",
     "output_type": "stream",
     "text": [
      "['Fiona', 17, 4.8, True]\n"
     ]
    },
    {
     "data": {
      "text/plain": [
       "list"
      ]
     },
     "execution_count": 23,
     "metadata": {},
     "output_type": "execute_result"
    }
   ],
   "source": [
    "print(info)\n",
    "type(info)"
   ]
  },
  {
   "cell_type": "markdown",
   "id": "9199a49e",
   "metadata": {},
   "source": [
    "# Characteristics Of List"
   ]
  },
  {
   "cell_type": "code",
   "execution_count": 24,
   "id": "f7c38821",
   "metadata": {},
   "outputs": [
    {
     "data": {
      "text/plain": [
       "'1. List is ordered.\\n   2. It is changeable or mutable.\\n   3. It allows duplicate values.\\n   4. Lists can be nested.\\n   5. Lists Can Contain Arbitrary Objects*.\\n   6. Lists are located by index.'"
      ]
     },
     "execution_count": 24,
     "metadata": {},
     "output_type": "execute_result"
    }
   ],
   "source": [
    "\"\"\"1. List is ordered.\n",
    "   2. It is changeable or mutable.\n",
    "   3. It allows duplicate values.\n",
    "   4. Lists can be nested.\n",
    "   5. Lists Can Contain Arbitrary Objects*.\n",
    "   6. Lists are located by index.\"\"\""
   ]
  },
  {
   "cell_type": "code",
   "execution_count": 25,
   "id": "f93463d9",
   "metadata": {},
   "outputs": [],
   "source": [
    "#locating with index\n",
    "info = ['Fiona', 17, 4.8, True]"
   ]
  },
  {
   "cell_type": "code",
   "execution_count": 26,
   "id": "ad20dc30",
   "metadata": {},
   "outputs": [
    {
     "name": "stdout",
     "output_type": "stream",
     "text": [
      "Fiona\n"
     ]
    }
   ],
   "source": [
    "print(info[0])"
   ]
  },
  {
   "cell_type": "code",
   "execution_count": 27,
   "id": "245b699a",
   "metadata": {},
   "outputs": [
    {
     "name": "stdout",
     "output_type": "stream",
     "text": [
      "17\n"
     ]
    }
   ],
   "source": [
    "print(info[-3])"
   ]
  },
  {
   "cell_type": "code",
   "execution_count": 28,
   "id": "e870604b",
   "metadata": {},
   "outputs": [
    {
     "name": "stdout",
     "output_type": "stream",
     "text": [
      "True\n"
     ]
    }
   ],
   "source": [
    "print(info[3])"
   ]
  },
  {
   "cell_type": "code",
   "execution_count": 29,
   "id": "a4e19d02",
   "metadata": {},
   "outputs": [
    {
     "name": "stdout",
     "output_type": "stream",
     "text": [
      "4.8\n"
     ]
    }
   ],
   "source": [
    "print(info[-2])"
   ]
  },
  {
   "cell_type": "markdown",
   "id": "bf35c19d",
   "metadata": {},
   "source": [
    "# List Constructor"
   ]
  },
  {
   "cell_type": "code",
   "execution_count": 30,
   "id": "e1f9452c",
   "metadata": {},
   "outputs": [],
   "source": [
    "#We construct list by using this function; VARIABLE = list((value)). e.g\n",
    "shapes = list(('square','triangle','cone','cube','rectangle'))   #without using '[]'"
   ]
  },
  {
   "cell_type": "code",
   "execution_count": 31,
   "id": "757b52e9",
   "metadata": {},
   "outputs": [
    {
     "data": {
      "text/plain": [
       "list"
      ]
     },
     "execution_count": 31,
     "metadata": {},
     "output_type": "execute_result"
    }
   ],
   "source": [
    "type(shapes)"
   ]
  },
  {
   "cell_type": "code",
   "execution_count": 32,
   "id": "4278e07d",
   "metadata": {},
   "outputs": [
    {
     "data": {
      "text/plain": [
       "['square', 'triangle', 'cone', 'cube', 'rectangle']"
      ]
     },
     "execution_count": 32,
     "metadata": {},
     "output_type": "execute_result"
    }
   ],
   "source": [
    "shapes"
   ]
  },
  {
   "cell_type": "markdown",
   "id": "b6ce6ccb",
   "metadata": {},
   "source": [
    "# Changing Of Values In A LIST"
   ]
  },
  {
   "cell_type": "code",
   "execution_count": 33,
   "id": "2ac0155b",
   "metadata": {},
   "outputs": [],
   "source": [
    "#In changing/replacing values, we take note of the index(which starts with '0'.\n",
    "#Using the variable \"shapes\" as example.\n",
    "#we are swaping cone with pentagon."
   ]
  },
  {
   "cell_type": "code",
   "execution_count": 34,
   "id": "fa677875",
   "metadata": {},
   "outputs": [
    {
     "name": "stdout",
     "output_type": "stream",
     "text": [
      "['square', 'triangle', 'pentagon', 'cube', 'rectangle']\n"
     ]
    }
   ],
   "source": [
    "shapes[2] = 'pentagon'\n",
    "print(shapes)          #Taking note that 'cone' is index 2 in the list 'shapes', it has officially been removed and replaced with Pentagon."
   ]
  },
  {
   "cell_type": "code",
   "execution_count": 35,
   "id": "6a4fe720",
   "metadata": {},
   "outputs": [
    {
     "name": "stdout",
     "output_type": "stream",
     "text": [
      "['square', 'triangle', 'pentagon', 'trapezium', 'rectangle']\n"
     ]
    }
   ],
   "source": [
    "shapes[3] = 'trapezium'\n",
    "print(shapes)                 #this one is actually just for fun *lol*"
   ]
  },
  {
   "cell_type": "markdown",
   "id": "9cc954db",
   "metadata": {},
   "source": [
    "# Using Range To Change/Add Multiple Value"
   ]
  },
  {
   "cell_type": "code",
   "execution_count": null,
   "id": "feab322e",
   "metadata": {},
   "outputs": [],
   "source": [
    "#Range  also involves you taking note of the value's index"
   ]
  },
  {
   "cell_type": "code",
   "execution_count": 36,
   "id": "a28ee464",
   "metadata": {},
   "outputs": [
    {
     "name": "stdout",
     "output_type": "stream",
     "text": [
      "['Gucci', 'Zara', 'Dior', 'Puma', 'Nike']\n"
     ]
    }
   ],
   "source": [
    "Brand = ['Gucci', 'Prada', 'Puma', 'Nike'] \n",
    "Brand[1:2] = 'Zara', 'Dior'\n",
    "print(Brand)"
   ]
  },
  {
   "cell_type": "code",
   "execution_count": 37,
   "id": "3a5874b3",
   "metadata": {},
   "outputs": [
    {
     "name": "stdout",
     "output_type": "stream",
     "text": [
      "['Gucci', 'Zara', 'Dior', 'Fendi', 'Nike']\n"
     ]
    }
   ],
   "source": [
    "Brand[3] = 'Fendi'\n",
    "print(Brand)         #Don't mind me, not a 'Puma' fan."
   ]
  },
  {
   "cell_type": "code",
   "execution_count": 39,
   "id": "e7ba5b49",
   "metadata": {},
   "outputs": [
    {
     "name": "stdout",
     "output_type": "stream",
     "text": [
      "['Gucci', 'Vuiton', 'Vuiton', 'Zara', 'Dior', 'Fendi', 'Nike']\n"
     ]
    }
   ],
   "source": [
    "#We can also use 'insert method' to add values.\n",
    "Brand.insert(1, 'Vuiton')\n",
    "print(Brand)                 #and just like that we've added 'vuiton' to the list using insert method and also taking note of desired index."
   ]
  },
  {
   "cell_type": "code",
   "execution_count": 40,
   "id": "2cc3e828",
   "metadata": {},
   "outputs": [],
   "source": [
    "#The more you run the above list,the more it duplicates....that's why in the characteristics above,we said LISTS have the ability to duplicate."
   ]
  },
  {
   "cell_type": "code",
   "execution_count": 41,
   "id": "9b56fb59",
   "metadata": {},
   "outputs": [
    {
     "data": {
      "text/plain": [
       "['Gucci', 'Vuiton', 'Vuiton', 'Zara', 'Dior', 'Fendi', 'Nike']"
      ]
     },
     "execution_count": 41,
     "metadata": {},
     "output_type": "execute_result"
    }
   ],
   "source": [
    "Brand"
   ]
  },
  {
   "cell_type": "code",
   "execution_count": 42,
   "id": "78821987",
   "metadata": {},
   "outputs": [
    {
     "name": "stdout",
     "output_type": "stream",
     "text": [
      "['Gucci', 'Vuiton', 'Vuiton', 'Zara', 'Dior', 'Fendi', 'Nike', 'Versace']\n"
     ]
    }
   ],
   "source": [
    "#We can also use 'append method' to add values.\n",
    "Brand.append('Versace')\n",
    "print(Brand)              "
   ]
  },
  {
   "cell_type": "code",
   "execution_count": 43,
   "id": "f63b95f4",
   "metadata": {},
   "outputs": [
    {
     "name": "stdout",
     "output_type": "stream",
     "text": [
      "Yeah,we got this.\n"
     ]
    }
   ],
   "source": [
    "if 'Zara' in Brand:\n",
    "    print('Yeah,we got this.')\n",
    "else:\n",
    "    print('Nahh,try again.')"
   ]
  },
  {
   "cell_type": "code",
   "execution_count": 44,
   "id": "c3e93284",
   "metadata": {},
   "outputs": [
    {
     "name": "stdout",
     "output_type": "stream",
     "text": [
      "Nahh,try again.\n"
     ]
    }
   ],
   "source": [
    "if 'D&G' in Brand:\n",
    "    print('Yeah,we got this.')\n",
    "else:\n",
    "    print('Nahh,try again.')"
   ]
  },
  {
   "cell_type": "code",
   "execution_count": 45,
   "id": "6215a050",
   "metadata": {},
   "outputs": [
    {
     "data": {
      "text/plain": [
       "['Gucci', 'Vuiton', 'Vuiton', 'Zara', 'Dior', 'Fendi', 'Nike', 'Versace']"
      ]
     },
     "execution_count": 45,
     "metadata": {},
     "output_type": "execute_result"
    }
   ],
   "source": [
    "Brand"
   ]
  },
  {
   "cell_type": "code",
   "execution_count": 46,
   "id": "c028ac6b",
   "metadata": {},
   "outputs": [],
   "source": [
    "#We have come to the end of this lesson,hope you enjoyed learning with me?."
   ]
  }
 ],
 "metadata": {
  "kernelspec": {
   "display_name": "Python 3 (ipykernel)",
   "language": "python",
   "name": "python3"
  },
  "language_info": {
   "codemirror_mode": {
    "name": "ipython",
    "version": 3
   },
   "file_extension": ".py",
   "mimetype": "text/x-python",
   "name": "python",
   "nbconvert_exporter": "python",
   "pygments_lexer": "ipython3",
   "version": "3.11.7"
  }
 },
 "nbformat": 4,
 "nbformat_minor": 5
}
